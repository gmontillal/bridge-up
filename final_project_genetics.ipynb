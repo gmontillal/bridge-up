{
 "cells": [
  {
   "cell_type": "code",
   "execution_count": 1,
   "metadata": {},
   "outputs": [
    {
     "name": "stdout",
     "output_type": "stream",
     "text": [
      "901857671\n"
     ]
    }
   ],
   "source": [
    "def Addnum(num1,num2):\n",
    "    nsum = num1 + num2\n",
    "    return nsum\n",
    "print(Addnum(635472779,266384892))"
   ]
  },
  {
   "cell_type": "code",
   "execution_count": 2,
   "metadata": {},
   "outputs": [],
   "source": [
    "def my_len(obj):\n",
    "    c = 0 \n",
    "    for i in obj:\n",
    "        c+=1\n",
    "    return c"
   ]
  },
  {
   "cell_type": "code",
   "execution_count": 3,
   "metadata": {},
   "outputs": [
    {
     "name": "stdout",
     "output_type": "stream",
     "text": [
      "8\n"
     ]
    }
   ],
   "source": [
    "list1= [2,3,4,5,6,7,8,9]\n",
    "print(my_len(list1))"
   ]
  },
  {
   "cell_type": "code",
   "execution_count": 4,
   "metadata": {},
   "outputs": [],
   "source": [
    "# open files and read as strings\n",
    "elephantDNA = open(\"elephant.txt\").read()\n",
    "zebraDNA = open(\"zebra.txt\").read()\n",
    "rhinoDNA = open(\"rhino.txt\").read()"
   ]
  },
  {
   "cell_type": "markdown",
   "metadata": {},
   "source": [
    "# Elephant and zebra\n"
   ]
  },
  {
   "cell_type": "code",
   "execution_count": 5,
   "metadata": {},
   "outputs": [
    {
     "name": "stdout",
     "output_type": "stream",
     "text": [
      "354\n"
     ]
    }
   ],
   "source": [
    "# write code that compares your two sequences of DNA and prints out the number of differences\n",
    "#and create variable of difference:\n",
    "diff1 = 0\n",
    "for c, i in enumerate(elephantDNA):\n",
    "    if i != zebraDNA[c]:\n",
    "        diff1 += 1\n",
    "print(diff1)"
   ]
  },
  {
   "cell_type": "code",
   "execution_count": 6,
   "metadata": {},
   "outputs": [
    {
     "name": "stdout",
     "output_type": "stream",
     "text": [
      "1140\n"
     ]
    }
   ],
   "source": [
    "print(len(elephantDNA))"
   ]
  },
  {
   "cell_type": "markdown",
   "metadata": {},
   "source": [
    "# Elephant and Rhino"
   ]
  },
  {
   "cell_type": "code",
   "execution_count": 7,
   "metadata": {},
   "outputs": [
    {
     "name": "stdout",
     "output_type": "stream",
     "text": [
      "349\n"
     ]
    }
   ],
   "source": [
    "diff2 = 0\n",
    "for c, i in enumerate(elephantDNA):\n",
    "    if i != rhinoDNA[c]:\n",
    "        diff2 += 1\n",
    "        \n",
    "print(diff2)"
   ]
  },
  {
   "cell_type": "markdown",
   "metadata": {},
   "source": [
    "# Rhino and Zebra"
   ]
  },
  {
   "cell_type": "code",
   "execution_count": 8,
   "metadata": {},
   "outputs": [
    {
     "name": "stdout",
     "output_type": "stream",
     "text": [
      "180\n"
     ]
    }
   ],
   "source": [
    "diff3 = 0\n",
    "for c, i in enumerate(rhinoDNA):\n",
    "    if i != zebraDNA[c]:\n",
    "        diff3 += 1\n",
    "print(diff3)"
   ]
  },
  {
   "cell_type": "markdown",
   "metadata": {},
   "source": [
    "## Percent #1"
   ]
  },
  {
   "cell_type": "code",
   "execution_count": 9,
   "metadata": {},
   "outputs": [
    {
     "name": "stdout",
     "output_type": "stream",
     "text": [
      "31.05263157894737\n"
     ]
    }
   ],
   "source": [
    "percent = (diff1/len(elephantDNA))*100\n",
    "print(percent)"
   ]
  },
  {
   "cell_type": "markdown",
   "metadata": {},
   "source": [
    "## Percent #2"
   ]
  },
  {
   "cell_type": "code",
   "execution_count": 10,
   "metadata": {},
   "outputs": [
    {
     "name": "stdout",
     "output_type": "stream",
     "text": [
      "30.614035087719298\n"
     ]
    }
   ],
   "source": [
    "percent = (diff2/len(rhinoDNA))*100\n",
    "print(percent)"
   ]
  },
  {
   "cell_type": "markdown",
   "metadata": {},
   "source": [
    "## Percent #3"
   ]
  },
  {
   "cell_type": "code",
   "execution_count": 11,
   "metadata": {},
   "outputs": [
    {
     "name": "stdout",
     "output_type": "stream",
     "text": [
      "15.789473684210526\n"
     ]
    }
   ],
   "source": [
    "percent = (diff3/len(zebraDNA))*100\n",
    "print(percent)"
   ]
  },
  {
   "cell_type": "code",
   "execution_count": 15,
   "metadata": {},
   "outputs": [
    {
     "name": "stdout",
     "output_type": "stream",
     "text": [
      "30.614035087719298\n",
      "15.789473684210526\n",
      "31.05263157894737\n"
     ]
    }
   ],
   "source": [
    "def p_diff (obj1, obj2):\n",
    "    diff1 = 0 \n",
    "    for c, i in enumerate(obj1):\n",
    "        if i != obj2[c]:\n",
    "            diff1 += 1\n",
    "    print(100*(diff1)/len(zebraDNA))\n",
    "p_diff(elephantDNA, rhinoDNA)\n",
    "p_diff(zebraDNA, rhinoDNA)\n",
    "p_diff(elephantDNA, zebraDNA)"
   ]
  },
  {
   "cell_type": "code",
   "execution_count": 16,
   "metadata": {},
   "outputs": [],
   "source": [
    "import matplotlib.pyplot as plt"
   ]
  },
  {
   "cell_type": "code",
   "execution_count": null,
   "metadata": {},
   "outputs": [],
   "source": []
  }
 ],
 "metadata": {
  "kernelspec": {
   "display_name": "Python 3",
   "language": "python",
   "name": "python3"
  },
  "language_info": {
   "codemirror_mode": {
    "name": "ipython",
    "version": 3
   },
   "file_extension": ".py",
   "mimetype": "text/x-python",
   "name": "python",
   "nbconvert_exporter": "python",
   "pygments_lexer": "ipython3",
   "version": "3.7.3"
  }
 },
 "nbformat": 4,
 "nbformat_minor": 2
}
