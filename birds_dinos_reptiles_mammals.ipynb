{
 "cells": [
  {
   "cell_type": "markdown",
   "metadata": {},
   "source": [
    "# Birds, dinosaurs, reptiles, and mammals (oh my)\n",
    "\n",
    "We don't have data on cerebrum size for most organisms, but we can apply machine learning to body mass and brain volume values to classify organisms into birds, dinosaurs, reptiles, and mammals.\n",
    "\n",
    "## Import libraries and data\n",
    "\n",
    "Import the libraries you need to build a decision tree and read the bird_dino_gator.csv file into a dataframe. How many rows does the data have?"
   ]
  },
  {
   "cell_type": "code",
   "execution_count": 2,
   "metadata": {},
   "outputs": [
    {
     "data": {
      "text/html": [
       "<div>\n",
       "<style scoped>\n",
       "    .dataframe tbody tr th:only-of-type {\n",
       "        vertical-align: middle;\n",
       "    }\n",
       "\n",
       "    .dataframe tbody tr th {\n",
       "        vertical-align: top;\n",
       "    }\n",
       "\n",
       "    .dataframe thead th {\n",
       "        text-align: right;\n",
       "    }\n",
       "</style>\n",
       "<table border=\"1\" class=\"dataframe\">\n",
       "  <thead>\n",
       "    <tr style=\"text-align: right;\">\n",
       "      <th></th>\n",
       "      <th>Species Type</th>\n",
       "      <th>Genus</th>\n",
       "      <th>Species</th>\n",
       "      <th>Brain mass (g)</th>\n",
       "      <th>Body mass (g)</th>\n",
       "    </tr>\n",
       "  </thead>\n",
       "  <tbody>\n",
       "    <tr>\n",
       "      <th>0</th>\n",
       "      <td>M</td>\n",
       "      <td>Sciurus</td>\n",
       "      <td>aberti</td>\n",
       "      <td>6.850</td>\n",
       "      <td>626.5</td>\n",
       "    </tr>\n",
       "    <tr>\n",
       "      <th>1</th>\n",
       "      <td>M</td>\n",
       "      <td>Cynomops</td>\n",
       "      <td>abrasus</td>\n",
       "      <td>0.418</td>\n",
       "      <td>33.3</td>\n",
       "    </tr>\n",
       "    <tr>\n",
       "      <th>2</th>\n",
       "      <td>M</td>\n",
       "      <td>Myoprocta</td>\n",
       "      <td>acouchy</td>\n",
       "      <td>9.900</td>\n",
       "      <td>782.0</td>\n",
       "    </tr>\n",
       "    <tr>\n",
       "      <th>3</th>\n",
       "      <td>M</td>\n",
       "      <td>Rhinolophus</td>\n",
       "      <td>acuminatus</td>\n",
       "      <td>0.302</td>\n",
       "      <td>12.1</td>\n",
       "    </tr>\n",
       "    <tr>\n",
       "      <th>4</th>\n",
       "      <td>M</td>\n",
       "      <td>Lagenorhynchus</td>\n",
       "      <td>acutus</td>\n",
       "      <td>1200.000</td>\n",
       "      <td>120000.0</td>\n",
       "    </tr>\n",
       "  </tbody>\n",
       "</table>\n",
       "</div>"
      ],
      "text/plain": [
       "  Species Type           Genus     Species  Brain mass (g)  Body mass (g)\n",
       "0            M         Sciurus      aberti           6.850          626.5\n",
       "1            M        Cynomops     abrasus           0.418           33.3\n",
       "2            M       Myoprocta     acouchy           9.900          782.0\n",
       "3            M     Rhinolophus  acuminatus           0.302           12.1\n",
       "4            M  Lagenorhynchus      acutus        1200.000       120000.0"
      ]
     },
     "execution_count": 2,
     "metadata": {},
     "output_type": "execute_result"
    }
   ],
   "source": [
    "import matplotlib.pyplot as plt\n",
    "import numpy as np\n",
    "import pandas as pd\n",
    "import pydotplus\n",
    "from sklearn.tree import export_graphviz \n",
    "import graphviz\n",
    "import collections\n",
    "from sklearn import tree\n",
    "#graph.get_edge_list()\n",
    "df = pd.read_csv('bird_mammal_dino_reptile.csv')\n",
    "df.head()\n",
    "#graph.get_edge_list()"
   ]
  },
  {
   "cell_type": "markdown",
   "metadata": {},
   "source": [
    "Convert the dataframe to a numpy array. (Note, we are not going to calculate a brain to body mass ratio here, we are just going to use these two values as our features for each species.)"
   ]
  },
  {
   "cell_type": "code",
   "execution_count": 3,
   "metadata": {},
   "outputs": [],
   "source": [
    "array = df.to_numpy()"
   ]
  },
  {
   "cell_type": "markdown",
   "metadata": {},
   "source": [
    "## Training/test data\n",
    "\n",
    "We are going to split up our dataset into training data, that we will use to train the algorithm, and test data, that we will use to see how well the algorithm performs like we did with the k-nearest neighbors algorithm. From sklearn.model_selection, import train_test_split. Divide the data into 80% training and 20% test data:"
   ]
  },
  {
   "cell_type": "code",
   "execution_count": 4,
   "metadata": {},
   "outputs": [],
   "source": [
    "clf = tree.DecisionTreeClassifier()"
   ]
  },
  {
   "cell_type": "code",
   "execution_count": 5,
   "metadata": {},
   "outputs": [],
   "source": [
    "y = array[:,1]\n",
    "x = array[:, 3:5]\n"
   ]
  },
  {
   "cell_type": "code",
   "execution_count": 6,
   "metadata": {},
   "outputs": [],
   "source": [
    "from sklearn.model_selection import train_test_split\n",
    "x_train, X_test, y_train, y_test = train_test_split(x, y, test_size =0.2)\n",
    "fit = clf.fit(x_train,y_train)"
   ]
  },
  {
   "cell_type": "markdown",
   "metadata": {},
   "source": [
    "## Create decision tree\n",
    "\n",
    "Create a decision tree classifier to classify the brains as birds, dinosaurs, or reptiles based on the brain to body mass ratio and cerebrum to whole brain ratio. Make sure to run your decision tree only on the training data (not the test data)."
   ]
  },
  {
   "cell_type": "code",
   "execution_count": 7,
   "metadata": {},
   "outputs": [],
   "source": [
    "#dot_data = tree.export_graphviz(clf, feature_names=None, filled=True, rounded=True)\n",
    "#graph = pydotplus.graph_from_dot_data(dot_data)\n",
    "#colors = ('red', 'blue')\n",
    "#edges = collections.defaultdict(list)\n",
    "\n",
    "#for edge in graph.get_edge_list():\n",
    "    #edges[edge.get_source()].append(int(edge.get_destination()))\n",
    "\n",
    "#for edge in edges:\n",
    "    #edges[edge].sort()    \n",
    "    #for i in range(0):\n",
    "        #dest = graph.get_node(str(edges[edge][i]))[0]\n",
    "        #dest.set_fillcolor(colors[i])\n",
    "#graph.write_png('treedata.png')"
   ]
  },
  {
   "cell_type": "markdown",
   "metadata": {},
   "source": [
    "# Plotting decision surface"
   ]
  },
  {
   "cell_type": "code",
   "execution_count": 8,
   "metadata": {},
   "outputs": [
    {
     "data": {
      "text/plain": [
       "7000000.0"
      ]
     },
     "execution_count": 8,
     "metadata": {},
     "output_type": "execute_result"
    }
   ],
   "source": [
    "brain = df['Brain mass (g)']\n",
    "brain.min()\n",
    "brain.max()"
   ]
  },
  {
   "cell_type": "code",
   "execution_count": 9,
   "metadata": {},
   "outputs": [
    {
     "data": {
      "text/plain": [
       "101605000.0"
      ]
     },
     "execution_count": 9,
     "metadata": {},
     "output_type": "execute_result"
    }
   ],
   "source": [
    "body = df['Body mass (g)']\n",
    "body.min()\n",
    "body.max()"
   ]
  },
  {
   "cell_type": "code",
   "execution_count": 10,
   "metadata": {},
   "outputs": [],
   "source": [
    "xx, yy = np.meshgrid(np.arange( 0.0028 - 0.05, 7000000.0 + 0.05, 1000),\n",
    "                         np.arange( 0.58 - 0.05, 101605000.0 + 0.05, 1000))"
   ]
  },
  {
   "cell_type": "code",
   "execution_count": null,
   "metadata": {},
   "outputs": [],
   "source": [
    "Z = clf.predict(np.c_[xx.ravel(), yy.ravel()])\n",
    "Z = Z.reshape(xx.shape)"
   ]
  },
  {
   "cell_type": "code",
   "execution_count": null,
   "metadata": {},
   "outputs": [],
   "source": [
    "# Plot the contour plot\n",
    "cs = plt.contourf(xx, yy, Z, cmap=plt.cm.RdBu)\n",
    "# label the axes\n",
    "\n",
    "\n",
    "# Plot the training points\n",
    "for i, color in zip(range(2), \"rb\"):\n",
    "    idx = np.where(y == i)\n",
    "    plt.scatter(x[idx, 0], x[idx, 1], c=color, label=[\"Bird\", \"Dino\"][i], cmap=plt.cm.RdBu, edgecolor='black', s=15)\n",
    "    plt.xlabel('brain mass')\n",
    "    plt.ylabel('body mass')\n",
    "    plt.legend()\n",
    "plt.show()"
   ]
  },
  {
   "cell_type": "markdown",
   "metadata": {},
   "source": [
    "## Testing\n",
    "\n",
    "We can evaluate our decision tree on our testing data."
   ]
  },
  {
   "cell_type": "code",
   "execution_count": null,
   "metadata": {},
   "outputs": [],
   "source": []
  },
  {
   "cell_type": "markdown",
   "metadata": {},
   "source": [
    "Calculate the accuracy of the decision tree by importing `metrics` from `sklearn` and then finding the accuracy score."
   ]
  },
  {
   "cell_type": "code",
   "execution_count": 18,
   "metadata": {},
   "outputs": [],
   "source": [
    "from sklearn import metrics"
   ]
  },
  {
   "cell_type": "markdown",
   "metadata": {},
   "source": [
    "## Beautification\n",
    "\n",
    "If time permits, play around with changing the appearance of your decision tree and plotting a decision surface!"
   ]
  },
  {
   "cell_type": "code",
   "execution_count": null,
   "metadata": {},
   "outputs": [],
   "source": []
  }
 ],
 "metadata": {
  "kernelspec": {
   "display_name": "Python 3",
   "language": "python",
   "name": "python3"
  },
  "language_info": {
   "codemirror_mode": {
    "name": "ipython",
    "version": 3
   },
   "file_extension": ".py",
   "mimetype": "text/x-python",
   "name": "python",
   "nbconvert_exporter": "python",
   "pygments_lexer": "ipython3",
   "version": "3.7.3"
  }
 },
 "nbformat": 4,
 "nbformat_minor": 2
}
